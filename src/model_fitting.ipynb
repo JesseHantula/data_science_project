{
 "cells": [
  {
   "cell_type": "code",
   "execution_count": 70,
   "metadata": {},
   "outputs": [],
   "source": [
    "#imports\n",
    "import pandas as pd\n",
    "import numpy as np\n",
    "from sklearn.linear_model import LinearRegression\n",
    "from sklearn.model_selection import train_test_split\n",
    "from sklearn.metrics import accuracy_score\n",
    "from sklearn.metrics import mean_squared_error"
   ]
  },
  {
   "attachments": {},
   "cell_type": "markdown",
   "metadata": {},
   "source": [
    "Now"
   ]
  },
  {
   "cell_type": "code",
   "execution_count": 71,
   "metadata": {},
   "outputs": [
    {
     "name": "stdout",
     "output_type": "stream",
     "text": [
      "23478.48920152341\n"
     ]
    }
   ],
   "source": [
    "file_path = '../data/finalized_data.csv'\n",
    "df = pd.read_csv(file_path)\n",
    "\n",
    "#split data into train and test\n",
    "kaivopuisto = df[df['Station'] == 'Kaivopuisto']\n",
    "#drop station name and date\n",
    "kaivopuisto = kaivopuisto.drop(['Station'], axis=1)\n",
    "#add a column for the number of departures + returns\n",
    "kaivopuisto['Count'] = kaivopuisto['Departure Count'] + kaivopuisto['Return Count']\n",
    "departures = kaivopuisto['Count']\n",
    "kaivopuisto = kaivopuisto.drop(['Departure Count', 'Return Count', 'Count'], axis=1)\n",
    "X_train, X_test, y_train, y_test = train_test_split(kaivopuisto, departures, test_size=0.2, shuffle=True)\n",
    "\n",
    "model = LinearRegression()\n",
    "model.fit(X_train, y_train)\n",
    "predictions = model.predict(X_test)\n"
   ]
  }
 ],
 "metadata": {
  "kernelspec": {
   "display_name": "base",
   "language": "python",
   "name": "python3"
  },
  "language_info": {
   "codemirror_mode": {
    "name": "ipython",
    "version": 3
   },
   "file_extension": ".py",
   "mimetype": "text/x-python",
   "name": "python",
   "nbconvert_exporter": "python",
   "pygments_lexer": "ipython3",
   "version": "3.11.4"
  },
  "orig_nbformat": 4
 },
 "nbformat": 4,
 "nbformat_minor": 2
}
