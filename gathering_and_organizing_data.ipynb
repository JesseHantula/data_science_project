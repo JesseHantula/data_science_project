{
 "cells": [
  {
   "cell_type": "code",
   "execution_count": 1,
   "metadata": {},
   "outputs": [],
   "source": [
    "#imports\n",
    "\n",
    "import pandas as pd\n",
    "import numpy as np"
   ]
  },
  {
   "attachments": {},
   "cell_type": "markdown",
   "metadata": {},
   "source": [
    "First we will gather all the HSL bike data, and make it into a dataframe. "
   ]
  },
  {
   "cell_type": "code",
   "execution_count": 2,
   "metadata": {},
   "outputs": [
    {
     "name": "stdout",
     "output_type": "stream",
     "text": [
      "             Departure               Return Departure station id  \\\n",
      "0  2016-10-31T23:59:00           2016-11-01                  A24   \n",
      "1  2016-10-31T23:57:00  2016-10-31T23:58:00                  A23   \n",
      "2  2016-10-31T23:55:00  2016-10-31T23:57:00                  A22   \n",
      "3  2016-10-31T23:55:00  2016-10-31T23:58:00                  A38   \n",
      "4  2016-10-31T23:52:00  2016-10-31T23:55:00                  A21   \n",
      "\n",
      "  Departure station name Return station id    Return station name  \\\n",
      "0  Rautatientori / länsi               A26                 Kiasma   \n",
      "1    Rautatientori / itä               A24  Rautatientori / länsi   \n",
      "2      Kaisaniemenpuisto               A23    Rautatientori / itä   \n",
      "3      Kauppakorkeakoulu               A30      Kampin metroasema   \n",
      "4         Varsapuistikko               A22      Kaisaniemenpuisto   \n",
      "\n",
      "   Covered distance (m)  Duration (sec.)  \n",
      "0                 222.0             99.0  \n",
      "1                 179.0             69.0  \n",
      "2                 273.0             95.0  \n",
      "3                 477.0            183.0  \n",
      "4                 516.0            157.0  \n",
      "(1136008, 8)\n"
     ]
    }
   ],
   "source": [
    "# Read csv file into a pandas dataframe\n",
    "\n",
    "bike_data = pd.DataFrame()\n",
    "\n",
    "for year in range(2016, 2022):\n",
    "    if year > 2017:\n",
    "        for month in range(4, 11):\n",
    "            if month < 10:\n",
    "                month = '0' + str(month)\n",
    "            else:\n",
    "                month = str(month)\n",
    "        file_name = './data/HSL/od-trips-' + str(year) + '/' + str(year) + '-' + month + '.csv'\n",
    "        year_bike_data = pd.read_csv(file_name)\n",
    "        bike_data = pd.concat([bike_data, year_bike_data])\n",
    "    else:\n",
    "        for month in range(5, 11):\n",
    "            if month < 10:\n",
    "                month = '0' + str(month)\n",
    "            else:\n",
    "                month = str(month)\n",
    "        file_name = './data/HSL/od-trips-' + str(year) + '/' + str(year) + '-' + month + '.csv'\n",
    "        year_bike_data = pd.read_csv(file_name)\n",
    "        bike_data = pd.concat([bike_data, year_bike_data])\n",
    "\n",
    "print(bike_data.head())\n",
    "print(bike_data.shape)\n",
    "            \n",
    "        "
   ]
  },
  {
   "attachments": {},
   "cell_type": "markdown",
   "metadata": {},
   "source": [
    "Now we have our bike data in a dataframe. The next step is transformation, where we will get rid of data that we do not need."
   ]
  },
  {
   "cell_type": "code",
   "execution_count": 3,
   "metadata": {},
   "outputs": [],
   "source": [
    "bike_data = bike_data.drop(['Return station id', 'Departure station id', 'Covered distance (m)', 'Duration (sec.)'], axis=1)\n",
    "\n",
    "station_data = pd.DataFrame()\n",
    "station_data['Station name'] = bike_data['Departure station name'].unique()\n",
    "\n",
    "#Get rid of Relay Box test station\n",
    "station_data = station_data[:-1]\n",
    "\n",
    "calendar_data = pd.DataFrame(columns=['Date'])\n",
    "\n",
    "for year in range(2016, 2022):\n",
    "    if year == 2016:\n",
    "        dates = [date for date in (pd.date_range('05/01/' + str(year), end='10/31/' + str(year))) for i in range(len(station_data))]\n",
    "    elif year == 2017:\n",
    "        dates = dates + [date for date in (pd.date_range('05/01/' + str(year), end='10/31/' + str(year))) for i in range(len(station_data))]\n",
    "    else:\n",
    "        dates = dates + [date for date in (pd.date_range('04/01/' + str(year), end='10/31/' + str(year))) for i in range(len(station_data))]\n",
    "\n",
    "calendar_data['Date'] = dates\n",
    "\n",
    "num_dates = len(calendar_data['Date'].unique())\n",
    "\n",
    "station_data = pd.concat([station_data]*num_dates, ignore_index=True)\n",
    "\n",
    "calendar_data = pd.concat([calendar_data, station_data], axis=1)\n",
    "\n",
    "for station in calendar_data['Station name'].unique():\n",
    "    for date in calendar_data['Date'].unique():\n",
    "        temp_df = bike_data[(bike_data['Departure station name'] == station) & (str(date) in bike_data['Departure'])]\n",
    "        departures = len(temp_df)\n",
    "        temp_df = bike_data[(bike_data['Return station name'] == station) & (str(date) in bike_data['Return'])]\n",
    "        returns = len(temp_df)\n",
    "        calendar_data.loc[(calendar_data['Station name'] == station) & (calendar_data['Date'] == date), 'Departures'] = departures\n",
    "        calendar_data.loc[(calendar_data['Station name'] == station) & (calendar_data['Date'] == date), 'Returns'] = returns\n",
    "\n",
    "print(calendar_data.head(10))\n",
    "\n",
    "    \n"
   ]
  }
 ],
 "metadata": {
  "kernelspec": {
   "display_name": "base",
   "language": "python",
   "name": "python3"
  },
  "language_info": {
   "codemirror_mode": {
    "name": "ipython",
    "version": 3
   },
   "file_extension": ".py",
   "mimetype": "text/x-python",
   "name": "python",
   "nbconvert_exporter": "python",
   "pygments_lexer": "ipython3",
   "version": "3.11.4"
  },
  "orig_nbformat": 4
 },
 "nbformat": 4,
 "nbformat_minor": 2
}
